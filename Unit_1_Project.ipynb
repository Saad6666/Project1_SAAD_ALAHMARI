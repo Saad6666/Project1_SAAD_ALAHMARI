{
 "cells": [
  {
   "cell_type": "code",
   "execution_count": 3,
   "metadata": {},
   "outputs": [
    {
     "name": "stdout",
     "output_type": "stream",
     "text": [
      "the largest palindrome made from the product of two three-digit numbers is: 906609\n"
     ]
    }
   ],
   "source": [
    "'''\n",
    "Challenge 1: Largest Palindrome\n",
    "A palindromic number reads the same both ways. For example, 1234321 is a palindrome.\n",
    "The largest palindrome made from the product of two two-digit numbers is 9009 = 91 × 99. \n",
    "Find the largest palindrome made from the product of two three-digit numbers. Afterward,\n",
    "write a brief explanation walking through your code's logic in markdown.\n",
    "'''\n",
    "#defint a null value for plaindt to be able to use it\n",
    "palind = None\n",
    "#using \"range\" keeyword with tow \"For\" loops for iteratations\n",
    "for n in range(100, 1000):\n",
    "    for m in range(100, 1000):\n",
    "      #multiply tow numbers each time from each range\n",
    "        result = n * m\n",
    "        # chnge data type as string for be able to make comparsion between reversed numbers and unreversed numbers (the Slicing  method used to reverse : [start:stop:step])\n",
    "        if str(result) == str(result)[::-1]:\n",
    "          #to find largest palindroom vaule and ignore others the 'if' condition check if plaindroom is null using \"is\" keyword used to do comparsion of string values OR the vaule of result grater than plaind to reach largest\n",
    "          if palind is None or result > palind:\n",
    "              #at the end i have assigned the largest palindroom vaule\n",
    "            palind = result\n",
    "\n",
    "print(\"the largest palindrome made from the product of two three-digit numbers is:\", palind)"
   ]
  },
  {
   "cell_type": "code",
   "execution_count": 4,
   "metadata": {},
   "outputs": [
    {
     "name": "stdout",
     "output_type": "stream",
     "text": [
      "the sum of all the primes below 2,000 is: 277050\n"
     ]
    }
   ],
   "source": [
    "'''\n",
    "Challenge 2: Summation of Primes\n",
    "The sum of the primes below 10 is 2 + 3 + 5 + 7 = 17. Find the sum of all the primes \n",
    "below 2,000. Afterward, write a brief explanation walking through your code's logic \n",
    "in markdown.\n",
    "'''\n",
    "sum=0          #create a counter of summation\n",
    "#using a 'for' loop and 'range' to iterate around list starting at '2' ending '2000'\n",
    "for num in range(2,2000): \n",
    "#using \"if all\" condition to check the range (2, 2000) elements has no reminder (return true)\n",
    "  if all(num % i for i in range(2, num)):\n",
    "    #print(num)\n",
    "    sum += num\n",
    "print(\"the sum of all the primes below 2,000 is:\", sum)"
   ]
  },
  {
   "cell_type": "code",
   "execution_count": 5,
   "metadata": {},
   "outputs": [
    {
     "name": "stdout",
     "output_type": "stream",
     "text": [
      "The sum of all the multiples of 3 and 5 below 1,000 is: 233168\n"
     ]
    }
   ],
   "source": [
    "'''\n",
    "Challenge 3: Multiples of 3 and 5\n",
    "If we list all of the natural numbers below 10 that are multiples of 3 or 5, we get \n",
    "3, 5, 6, and 9. The sum of these multiples is 23. Find the sum of all the multiples\n",
    "of 3 and 5 below 1,000. Afterward, write a brief explanation walking through your \n",
    "code's logic in markdown.\n",
    "'''\n",
    "sum=0        #create a counter of summation\n",
    "#using a 'for' loop and 'range' to iterate around list starting at '1' ending '1000'\n",
    "for num in range(1,1000):  \n",
    "#using \"if all\" condition to check the range (1, 1000) elements is divisble by 3 or 5 with no reminder \n",
    "  if all((num%3==0 or num%5==0) for i in range(0, num)):\n",
    "    sum += num\n",
    "print(\"The sum of all the multiples of 3 and 5 below 1,000 is:\", sum)"
   ]
  },
  {
   "cell_type": "code",
   "execution_count": 6,
   "metadata": {},
   "outputs": [
    {
     "name": "stdout",
     "output_type": "stream",
     "text": [
      "a2b1c5a3\n",
      "W4F3D5\n",
      "aabcccccaaa\n",
      "WWWWFFFDDDDD\n"
     ]
    }
   ],
   "source": [
    "'''\n",
    "Challenge 4: String Compressor:\n",
    "Implement a method to perform basic string compression using the counts of repeated characters.\n",
    "(This is called run-length encoding.) For example, the string \"aabcccccaaa\" would become \n",
    "a2b1c5a3. If the “compressed” string would not become smaller than the original string, \n",
    "your method should return the original string. You can assume the string has \n",
    "only uppercase and lowercase letters (a–z). Specify whether your solution is case sensitive \n",
    "or case insensitive and what you would need to change to make it the other. \n",
    "Afterward, write a brief explanation walking through your code's logic in markdown.\n",
    "'''\n",
    "\n",
    "# assuming its case insensitive\n",
    "#this fucntion does the compression of the text.\n",
    "def encode(text):\n",
    "    if text != '':   # if text is not empty\n",
    "        i = 1   #create counter variable that to count number of letters in a text\n",
    "        for i in range (len(text)):   #making for loop runs upto the length of text\n",
    "            if text[0] == text[i]:      #check when the values of text occures again , then\n",
    "                i += 1                  # accumalte 1 to each ocurrenace of the same value\n",
    "            else:                    #otherwise , exit the if condition\n",
    "                break\n",
    "        # retrun 1st char in text with its count and recursevly call the function \"encode\" for the next char      \n",
    "        return text[0] + str(i) + encode(text[i:]) \n",
    "    else:    #if there is no more value stop\n",
    "        return \"\"\n",
    "    \n",
    "print(encode(\"aabcccccaaa\"))  # call fucntion encode with text value \"\" and print the result. \n",
    "print(encode(\"WWWWFFFDDDDD\"))\n",
    "# a1b2c3\n",
    "\n",
    "# this fucntion does the decode of the comprsed the text.\n",
    "def decode(text):\n",
    "     if text != '':                 # if text is not empty\n",
    "        st_char = text[0]           #capture the 1st value of the comprssed text\n",
    "        num = text[1]               #capture the count of occurance of 1st value of the comprssed text\n",
    "       \n",
    "        # retrun 1st char in comprssed text and repeat it based on value of \"num\", and recursevly call the function \"decode\" for the third value of text \n",
    "        return st_char * int(num) + decode(text[2:])    \n",
    "     else:\n",
    "        return \"\"\n",
    "          \n",
    "print(decode(\"a2b1c5a3\"))\n",
    "print(decode(\"W4F3D5\"))\n",
    "# abbccc"
   ]
  },
  {
   "cell_type": "code",
   "execution_count": 7,
   "metadata": {},
   "outputs": [
    {
     "name": "stdout",
     "output_type": "stream",
     "text": [
      "1\n",
      "2\n",
      "Fizz\n",
      "4\n",
      "Buzz\n",
      "Fizz\n",
      "7\n",
      "8\n",
      "Fizz\n",
      "Buzz\n",
      "11\n",
      "Fizz\n",
      "13\n",
      "14\n",
      "FizzBuzz\n",
      "16\n",
      "17\n",
      "Fizz\n",
      "19\n",
      "Buzz\n",
      "Fizz\n",
      "22\n",
      "23\n",
      "Fizz\n",
      "Buzz\n",
      "26\n",
      "Fizz\n",
      "28\n",
      "29\n",
      "FizzBuzz\n",
      "31\n",
      "32\n",
      "Fizz\n",
      "34\n",
      "Buzz\n",
      "Fizz\n",
      "37\n",
      "38\n",
      "Fizz\n",
      "Buzz\n",
      "41\n",
      "Fizz\n",
      "43\n",
      "44\n",
      "FizzBuzz\n",
      "46\n",
      "47\n",
      "Fizz\n",
      "49\n",
      "Buzz\n",
      "Fizz\n",
      "52\n",
      "53\n",
      "Fizz\n",
      "Buzz\n",
      "56\n",
      "Fizz\n",
      "58\n",
      "59\n",
      "FizzBuzz\n",
      "61\n",
      "62\n",
      "Fizz\n",
      "64\n",
      "Buzz\n",
      "Fizz\n",
      "67\n",
      "68\n",
      "Fizz\n",
      "Buzz\n",
      "71\n",
      "Fizz\n",
      "73\n",
      "74\n",
      "FizzBuzz\n",
      "76\n",
      "77\n",
      "Fizz\n",
      "79\n",
      "Buzz\n",
      "Fizz\n",
      "82\n",
      "83\n",
      "Fizz\n",
      "Buzz\n",
      "86\n",
      "Fizz\n",
      "88\n",
      "89\n",
      "FizzBuzz\n",
      "91\n",
      "92\n",
      "Fizz\n",
      "94\n",
      "Buzz\n",
      "Fizz\n",
      "97\n",
      "98\n",
      "Fizz\n",
      "Buzz\n"
     ]
    }
   ],
   "source": [
    "'''\n",
    "BONUS Challenge: FizzBuzz\n",
    "Write a program that prints all of the numbers from 1 to 100. For multiples of 3, instead of \n",
    "the number, print \"Fizz;\" for multiples of 5, print \"Buzz.\" For numbers that are multiples of\n",
    "both 3 and 5, print \"FizzBuzz.\" Afterward, write a brief explanation walking through your \n",
    "code's logic in markdown.\n",
    "'''\n",
    "for num in range(1, 101):   #  a for loop to iterate numbers from 1 to 100\n",
    "    if num % 3 == 0 and num % 5 == 0: # if condition to check if the num is divisble by 3 and 5 with no reminder \n",
    "        print('FizzBuzz');            # if codiintion met, print \"FizzBuzz\n",
    "    elif num % 3 == 0:            # if condition to check if the num is divisble by 3 no reminder \n",
    "        print('Fizz');          # if codiintion met, print \"Fizz\n",
    "    elif num % 5 == 0:         #if condition to check if the num is divisble by 5 no reminder \n",
    "        print('Buzz');         # if codiintion met, print \"Buzz\n",
    "    else:\n",
    "        print(num);       # otherwise, print numbers"
   ]
  }
 ],
 "metadata": {
  "kernelspec": {
   "display_name": "Python 3",
   "language": "python",
   "name": "python3"
  },
  "language_info": {
   "codemirror_mode": {
    "name": "ipython",
    "version": 3
   },
   "file_extension": ".py",
   "mimetype": "text/x-python",
   "name": "python",
   "nbconvert_exporter": "python",
   "pygments_lexer": "ipython3",
   "version": "3.6.2"
  }
 },
 "nbformat": 4,
 "nbformat_minor": 2
}
